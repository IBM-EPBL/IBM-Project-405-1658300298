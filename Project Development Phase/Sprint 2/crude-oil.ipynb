{
 "cells": [
  {
   "cell_type": "code",
   "execution_count": 2,
   "id": "175744d1",
   "metadata": {},
   "outputs": [],
   "source": [
    "#Import the libraries that will be needed in the program.\n",
    "import pandas as pd\n",
    "import matplotlib.pyplot as plt\n",
    "import numpy as np\n",
    "import os\n",
    "import seaborn as sns"
   ]
  },
  {
   "cell_type": "code",
   "execution_count": 3,
   "id": "9b71b5bf",
   "metadata": {},
   "outputs": [
    {
     "data": {
      "text/plain": [
       "'/Users/madhavan/python files'"
      ]
     },
     "execution_count": 3,
     "metadata": {},
     "output_type": "execute_result"
    }
   ],
   "source": [
    "#Display the current working directory\n",
    "os.getcwd()"
   ]
  },
  {
   "cell_type": "code",
   "execution_count": 4,
   "id": "2bc19ecf",
   "metadata": {},
   "outputs": [],
   "source": [
    "#Load the excel data file into pandas using the read_excel() function.\n",
    "data=pd.read_excel(r\"/Users/madhavan/Downloads/Crude Oil Prices Daily.xlsx\")"
   ]
  },
  {
   "cell_type": "code",
   "execution_count": 5,
   "id": "396827b5",
   "metadata": {},
   "outputs": [
    {
     "data": {
      "text/html": [
       "<div>\n",
       "<style scoped>\n",
       "    .dataframe tbody tr th:only-of-type {\n",
       "        vertical-align: middle;\n",
       "    }\n",
       "\n",
       "    .dataframe tbody tr th {\n",
       "        vertical-align: top;\n",
       "    }\n",
       "\n",
       "    .dataframe thead th {\n",
       "        text-align: right;\n",
       "    }\n",
       "</style>\n",
       "<table border=\"1\" class=\"dataframe\">\n",
       "  <thead>\n",
       "    <tr style=\"text-align: right;\">\n",
       "      <th></th>\n",
       "      <th>Date</th>\n",
       "      <th>Closing Value</th>\n",
       "    </tr>\n",
       "  </thead>\n",
       "  <tbody>\n",
       "    <tr>\n",
       "      <th>8213</th>\n",
       "      <td>2018-06-26</td>\n",
       "      <td>75.23</td>\n",
       "    </tr>\n",
       "    <tr>\n",
       "      <th>8214</th>\n",
       "      <td>2018-06-27</td>\n",
       "      <td>77.41</td>\n",
       "    </tr>\n",
       "    <tr>\n",
       "      <th>8215</th>\n",
       "      <td>2018-06-28</td>\n",
       "      <td>73.45</td>\n",
       "    </tr>\n",
       "    <tr>\n",
       "      <th>8216</th>\n",
       "      <td>2018-06-29</td>\n",
       "      <td>74.13</td>\n",
       "    </tr>\n",
       "    <tr>\n",
       "      <th>8217</th>\n",
       "      <td>2018-07-02</td>\n",
       "      <td>73.89</td>\n",
       "    </tr>\n",
       "    <tr>\n",
       "      <th>8218</th>\n",
       "      <td>2018-07-03</td>\n",
       "      <td>74.19</td>\n",
       "    </tr>\n",
       "    <tr>\n",
       "      <th>8219</th>\n",
       "      <td>2018-07-04</td>\n",
       "      <td>NaN</td>\n",
       "    </tr>\n",
       "    <tr>\n",
       "      <th>8220</th>\n",
       "      <td>2018-07-05</td>\n",
       "      <td>73.05</td>\n",
       "    </tr>\n",
       "    <tr>\n",
       "      <th>8221</th>\n",
       "      <td>2018-07-06</td>\n",
       "      <td>73.78</td>\n",
       "    </tr>\n",
       "    <tr>\n",
       "      <th>8222</th>\n",
       "      <td>2018-07-09</td>\n",
       "      <td>73.93</td>\n",
       "    </tr>\n",
       "  </tbody>\n",
       "</table>\n",
       "</div>"
      ],
      "text/plain": [
       "           Date  Closing Value\n",
       "8213 2018-06-26          75.23\n",
       "8214 2018-06-27          77.41\n",
       "8215 2018-06-28          73.45\n",
       "8216 2018-06-29          74.13\n",
       "8217 2018-07-02          73.89\n",
       "8218 2018-07-03          74.19\n",
       "8219 2018-07-04            NaN\n",
       "8220 2018-07-05          73.05\n",
       "8221 2018-07-06          73.78\n",
       "8222 2018-07-09          73.93"
      ]
     },
     "execution_count": 5,
     "metadata": {},
     "output_type": "execute_result"
    }
   ],
   "source": [
    "#Check whether any null values are there or not if it is present then the following can be done,\n",
    "#Imputing data using the Imputation method in sklearn.\n",
    "#Filling NaN values with mean, median, and mode using fillna() method.\n",
    "#Delete the records\n",
    "data.tail(10)\n",
    "data.isnull().any()\n",
    "data.isnull().sum()\n",
    "data.dropna(axis=0,inplace=True)\n",
    "data.isnull().sum()"
   ]
  },
  {
   "cell_type": "code",
   "execution_count": 10,
   "id": "e8686cd5",
   "metadata": {},
   "outputs": [
    {
     "data": {
      "text/plain": [
       "Text(0.5, 1.0, 'Variation of oil price over years')"
      ]
     },
     "execution_count": 10,
     "metadata": {},
     "output_type": "execute_result"
    },
    {
     "data": {
      "image/png": "[encoded data removed]",
      "text/plain": [
       "<Figure size 432x288 with 1 Axes>"
      ]
     },
     "metadata": {
      "needs_background": "light"
     },
     "output_type": "display_data"
    }
   ],
   "source": [
    "data['Closing Value'].plot(kind='bar')\n",
    "plt.title('Variation of oil price over years')"
   ]
  },
  {
   "cell_type": "code",
   "execution_count": 11,
   "id": "0f4d8eed",
   "metadata": {},
   "outputs": [],
   "source": [
    "data_oil=data[\"Closing Value\"].reset_index()"
   ]
  },
  {
   "cell_type": "code",
   "execution_count": 12,
   "id": "1123f943",
   "metadata": {},
   "outputs": [
    {
     "data": {
      "text/html": [
       "<div>\n",
       "<style scoped>\n",
       "    .dataframe tbody tr th:only-of-type {\n",
       "        vertical-align: middle;\n",
       "    }\n",
       "\n",
       "    .dataframe tbody tr th {\n",
       "        vertical-align: top;\n",
       "    }\n",
       "\n",
       "    .dataframe thead th {\n",
       "        text-align: right;\n",
       "    }\n",
       "</style>\n",
       "<table border=\"1\" class=\"dataframe\">\n",
       "  <thead>\n",
       "    <tr style=\"text-align: right;\">\n",
       "      <th></th>\n",
       "      <th>index</th>\n",
       "      <th>Closing Value</th>\n",
       "    </tr>\n",
       "  </thead>\n",
       "  <tbody>\n",
       "    <tr>\n",
       "      <th>0</th>\n",
       "      <td>0</td>\n",
       "      <td>25.56</td>\n",
       "    </tr>\n",
       "    <tr>\n",
       "      <th>1</th>\n",
       "      <td>1</td>\n",
       "      <td>26.00</td>\n",
       "    </tr>\n",
       "    <tr>\n",
       "      <th>2</th>\n",
       "      <td>2</td>\n",
       "      <td>26.53</td>\n",
       "    </tr>\n",
       "    <tr>\n",
       "      <th>3</th>\n",
       "      <td>3</td>\n",
       "      <td>25.85</td>\n",
       "    </tr>\n",
       "    <tr>\n",
       "      <th>4</th>\n",
       "      <td>4</td>\n",
       "      <td>25.87</td>\n",
       "    </tr>\n",
       "    <tr>\n",
       "      <th>...</th>\n",
       "      <td>...</td>\n",
       "      <td>...</td>\n",
       "    </tr>\n",
       "    <tr>\n",
       "      <th>8211</th>\n",
       "      <td>8217</td>\n",
       "      <td>73.89</td>\n",
       "    </tr>\n",
       "    <tr>\n",
       "      <th>8212</th>\n",
       "      <td>8218</td>\n",
       "      <td>74.19</td>\n",
       "    </tr>\n",
       "    <tr>\n",
       "      <th>8213</th>\n",
       "      <td>8220</td>\n",
       "      <td>73.05</td>\n",
       "    </tr>\n",
       "    <tr>\n",
       "      <th>8214</th>\n",
       "      <td>8221</td>\n",
       "      <td>73.78</td>\n",
       "    </tr>\n",
       "    <tr>\n",
       "      <th>8215</th>\n",
       "      <td>8222</td>\n",
       "      <td>73.93</td>\n",
       "    </tr>\n",
       "  </tbody>\n",
       "</table>\n",
       "<p>8216 rows × 2 columns</p>\n",
       "</div>"
      ],
      "text/plain": [
       "      index  Closing Value\n",
       "0         0          25.56\n",
       "1         1          26.00\n",
       "2         2          26.53\n",
       "3         3          25.85\n",
       "4         4          25.87\n",
       "...     ...            ...\n",
       "8211   8217          73.89\n",
       "8212   8218          74.19\n",
       "8213   8220          73.05\n",
       "8214   8221          73.78\n",
       "8215   8222          73.93\n",
       "\n",
       "[8216 rows x 2 columns]"
      ]
     },
     "execution_count": 12,
     "metadata": {},
     "output_type": "execute_result"
    }
   ],
   "source": [
    "data_oil"
   ]
  },
  {
   "cell_type": "code",
   "execution_count": 13,
   "id": "a9322c29",
   "metadata": {},
   "outputs": [],
   "source": [
    "#Feature scaling is a method used to normalize the range of independent variables or features of data.\n",
    "# The next step is to scale the crude oil prices between (0, 1) to avoid intensive computation. \n",
    "# Common methods include Standardization and Normalization.\n",
    "from sklearn.preprocessing import MinMaxScaler\n",
    "scaler=MinMaxScaler(feature_range=(0,1))\n",
    "data_oil=scaler.fit_transform(np.array(data_oil).reshape(-1,1))"
   ]
  },
  {
   "cell_type": "code",
   "execution_count": 14,
   "id": "194974af",
   "metadata": {},
   "outputs": [
    {
     "data": {
      "text/plain": [
       "array([[0.00000000e+00],\n",
       "       [3.10873267e-03],\n",
       "       [1.21624909e-04],\n",
       "       ...,\n",
       "       [8.97348577e-03],\n",
       "       [1.00000000e+00],\n",
       "       [8.99172951e-03]])"
      ]
     },
     "execution_count": 14,
     "metadata": {},
     "output_type": "execute_result"
    }
   ],
   "source": [
    "data_oil"
   ]
  },
  {
   "cell_type": "code",
   "execution_count": 79,
   "id": "b4b96135",
   "metadata": {},
   "outputs": [
    {
     "data": {
      "text/plain": [
       "<Figure size 1.08e+09x360 with 0 Axes>"
      ]
     },
     "execution_count": 79,
     "metadata": {},
     "output_type": "execute_result"
    },
    {
     "data": {
      "image/png": "[encoded data removed]",
      "text/plain": [
       "<Figure size 432x288 with 1 Axes>"
      ]
     },
     "metadata": {
      "needs_background": "light"
     },
     "output_type": "display_data"
    },
    {
     "data": {
      "text/plain": [
       "<Figure size 1.08e+09x360 with 0 Axes>"
      ]
     },
     "metadata": {},
     "output_type": "display_data"
    }
   ],
   "source": [
    "#Data visualization is where a given data set is presented in a graphical format.\n",
    "# It helps the detection of patterns, trends, and correlations that might go undetected in text-based data.\n",
    "# Visualize our data using the Matplotlib and seaborn library.\n",
    "plt.plot(data_oil)\n",
    "plt.figure(figsize=(15000000,5))"
   ]
  },
  {
   "cell_type": "code",
   "execution_count": 76,
   "id": "99d75a4f",
   "metadata": {},
   "outputs": [
    {
     "ename": "SyntaxError",
     "evalue": "cannot assign to function call (1760874162.py, line 2)",
     "output_type": "error",
     "traceback": [
      "\u001b[0;36m  Input \u001b[0;32mIn [76]\u001b[0;36m\u001b[0m\n\u001b[0;31m    plt.rcParams(\"figure.figsize\")=(20,6)\u001b[0m\n\u001b[0m    ^\u001b[0m\n\u001b[0;31mSyntaxError\u001b[0m\u001b[0;31m:\u001b[0m cannot assign to function call\n"
     ]
    }
   ],
   "source": [
    "plt.rcParams(\"figure.figsize\")=(20,6)\n"
   ]
  },
  {
   "cell_type": "code",
   "execution_count": 15,
   "id": "973765b4",
   "metadata": {},
   "outputs": [],
   "source": [
    "#When you are working on a model and you want to train it, you have a dataset.\n",
    "# But after training, we have to test the model on some test dataset.\n",
    "# For this, you will need a dataset that is different from the training set you used earlier. \n",
    "# But it might not always be possible to have so much data during the development phase.\n",
    "# In such cases, the solution is to split the dataset into two sets, one for training and the other for testing.\n",
    "training_size=int(len(data_oil)*0.65)\n",
    "test_size=len(data_oil)-training_size\n",
    "train_data,test_data=data_oil[0:training_size,:],data_oil[training_size:,:1]\n",
    "train_data.shape,test_data.shape\n",
    "#The size of the train and test data after splitting.\n",
    "training_size,test_size"
   ]
  },
  {
   "cell_type": "code",
   "execution_count": 18,
   "id": "f1aabe03",
   "metadata": {},
   "outputs": [],
   "source": [
    "# convert an array of values into a dataset matrix\n",
    "def create_dataset (dataset,time_step=1):\n",
    "    datax,datay =[],[]\n",
    "    for i in range(len(dataset)-time_step-1) :\n",
    "        a=dataset[i:(i+time_step), 0]\n",
    "        datax.append(a)\n",
    "        datay.append (dataset[i + time_step, 0])\n",
    "    return np.array(datax),np.array(datay)\n"
   ]
  },
  {
   "cell_type": "code",
   "execution_count": 19,
   "id": "53363e4a",
   "metadata": {},
   "outputs": [],
   "source": [
    "# reshape into Xat, t+1, t+2, t+3 and Y=t+4\n",
    "time_step = 10\n",
    "x_train,y_train = create_dataset(train_data, time_step)\n",
    "x_test,y_test = create_dataset(test_data,time_step)"
   ]
  },
  {
   "cell_type": "code",
   "execution_count": 20,
   "id": "2777fac1",
   "metadata": {},
   "outputs": [
    {
     "name": "stdout",
     "output_type": "stream",
     "text": [
      "(10669, 10)\n",
      "(10669,)\n"
     ]
    },
    {
     "data": {
      "text/plain": [
       "(None, None)"
      ]
     },
     "execution_count": 20,
     "metadata": {},
     "output_type": "execute_result"
    }
   ],
   "source": [
    "#Shape of training data.\n",
    "print(x_train.shape),print(y_train.shape)"
   ]
  },
  {
   "cell_type": "code",
   "execution_count": 21,
   "id": "a3f3e84b",
   "metadata": {},
   "outputs": [
    {
     "name": "stdout",
     "output_type": "stream",
     "text": [
      "(5741, 10)\n",
      "(5741,)\n"
     ]
    },
    {
     "data": {
      "text/plain": [
       "(None, None)"
      ]
     },
     "execution_count": 21,
     "metadata": {},
     "output_type": "execute_result"
    }
   ],
   "source": [
    "#Shape of test data.\n",
    "print (x_test.shape), print (y_test.shape)"
   ]
  },
  {
   "cell_type": "code",
   "execution_count": 22,
   "id": "ede55854",
   "metadata": {},
   "outputs": [
    {
     "data": {
      "text/plain": [
       "array([[0.00000000e+00, 3.10873267e-03, 1.21624909e-04, ...,\n",
       "        3.14400389e-03, 4.86499635e-04, 3.14643639e-03],\n",
       "       [3.10873267e-03, 1.21624909e-04, 3.16224763e-03, ...,\n",
       "        4.86499635e-04, 3.14643639e-03, 6.08124544e-04],\n",
       "       [1.21624909e-04, 3.16224763e-03, 2.43249818e-04, ...,\n",
       "        3.14643639e-03, 6.08124544e-04, 3.16589638e-03],\n",
       "       ...,\n",
       "       [6.48625639e-01, 7.22451958e-03, 6.48747263e-01, ...,\n",
       "        7.46898565e-03, 6.49112138e-01, 7.47506689e-03],\n",
       "       [7.22451958e-03, 6.48747263e-01, 7.33154950e-03, ...,\n",
       "        6.49112138e-01, 7.47506689e-03, 6.49233763e-01],\n",
       "       [6.48747263e-01, 7.33154950e-03, 6.48868888e-01, ...,\n",
       "        7.47506689e-03, 6.49233763e-01, 7.51398686e-03]])"
      ]
     },
     "execution_count": 22,
     "metadata": {},
     "output_type": "execute_result"
    }
   ],
   "source": [
    "#The data of X_train.\n",
    "x_train"
   ]
  },
  {
   "cell_type": "code",
   "execution_count": 23,
   "id": "7c9cd85e",
   "metadata": {},
   "outputs": [],
   "source": [
    "# reshape input to be [samples, time steps, features] which is required for LSTM.\n",
    "x_train =x_train.reshape(x_train.shape[0],x_train.shape[1],1)\n",
    "x_test=x_test.reshape(x_test.shape[0],x_test.shape[1],1)"
   ]
  },
  {
   "cell_type": "code",
   "execution_count": 24,
   "id": "89a010b5",
   "metadata": {},
   "outputs": [
    {
     "name": "stderr",
     "output_type": "stream",
     "text": [
      "2022-10-30 12:01:32.161793: I tensorflow/core/platform/cpu_feature_guard.cc:193] This TensorFlow binary is optimized with oneAPI Deep Neural Network Library (oneDNN) to use the following CPU instructions in performance-critical operations:  AVX2 FMA\n",
      "To enable them in other operations, rebuild TensorFlow with the appropriate compiler flags.\n"
     ]
    }
   ],
   "source": [
    "#Create the stacked LSTM model.\n",
    "#Import the model building libraries.\n",
    "from tensorflow.keras.models import Sequential\n",
    "from tensorflow.keras.layers import Dense \n",
    "from tensorflow.keras.layers import LSTM"
   ]
  },
  {
   "cell_type": "code",
   "execution_count": 25,
   "id": "96dc5229",
   "metadata": {},
   "outputs": [
    {
     "name": "stderr",
     "output_type": "stream",
     "text": [
      "2022-10-30 12:01:43.371619: I tensorflow/core/platform/cpu_feature_guard.cc:193] This TensorFlow binary is optimized with oneAPI Deep Neural Network Library (oneDNN) to use the following CPU instructions in performance-critical operations:  AVX2 FMA\n",
      "To enable them in other operations, rebuild TensorFlow with the appropriate compiler flags.\n"
     ]
    }
   ],
   "source": [
    "#Initializing the libraries.\n",
    "model=Sequential()"
   ]
  },
  {
   "cell_type": "code",
   "execution_count": 26,
   "id": "59fcc948",
   "metadata": {},
   "outputs": [],
   "source": [
    "#Adding LSTM layers.\n",
    "model.add(LSTM(50, return_sequences=True, input_shape=(10,1))) \n",
    "model.add(LSTM(50, return_sequences=True))\n",
    "model.add(LSTM(50))"
   ]
  },
  {
   "cell_type": "code",
   "execution_count": 27,
   "id": "09af2e1b",
   "metadata": {},
   "outputs": [],
   "source": [
    "#Adding output layers.\n",
    "model.add(Dense(1))"
   ]
  },
  {
   "cell_type": "code",
   "execution_count": 28,
   "id": "bfe67024",
   "metadata": {},
   "outputs": [
    {
     "name": "stdout",
     "output_type": "stream",
     "text": [
      "Model: \"sequential\"\n",
      "_________________________________________________________________\n",
      " Layer (type)                Output Shape              Param #   \n",
      "=================================================================\n",
      " lstm (LSTM)                 (None, 10, 50)            10400     \n",
      "                                                                 \n",
      " lstm_1 (LSTM)               (None, 10, 50)            20200     \n",
      "                                                                 \n",
      " lstm_2 (LSTM)               (None, 50)                20200     \n",
      "                                                                 \n",
      " dense (Dense)               (None, 1)                 51        \n",
      "                                                                 \n",
      "=================================================================\n",
      "Total params: 50,851\n",
      "Trainable params: 50,851\n",
      "Non-trainable params: 0\n",
      "_________________________________________________________________\n"
     ]
    }
   ],
   "source": [
    "#Information about the model and it's layers.\n",
    "model.summary()"
   ]
  },
  {
   "cell_type": "code",
   "execution_count": 29,
   "id": "24e53fec",
   "metadata": {},
   "outputs": [],
   "source": [
    "#Configuring the learning process.\n",
    "#Metrics are used to evaluate the performance of your model.\n",
    "model.compile(loss=\"mean_squared_error\",optimizer=\"adam\")"
   ]
  },
  {
   "cell_type": "code",
   "execution_count": 30,
   "id": "1508eca3",
   "metadata": {},
   "outputs": [
    {
     "name": "stdout",
     "output_type": "stream",
     "text": [
      "Epoch 1/50\n",
      "167/167 [==============================] - 9s 29ms/step - loss: 0.0193 - val_loss: 0.0269\n",
      "Epoch 2/50\n",
      "167/167 [==============================] - 4s 24ms/step - loss: 7.9137e-04 - val_loss: 0.0129\n",
      "Epoch 3/50\n",
      "167/167 [==============================] - 4s 27ms/step - loss: 1.9121e-04 - val_loss: 0.0106\n",
      "Epoch 4/50\n",
      "167/167 [==============================] - 4s 24ms/step - loss: 1.1535e-04 - val_loss: 0.0067\n",
      "Epoch 5/50\n",
      "167/167 [==============================] - 4s 24ms/step - loss: 1.3334e-04 - val_loss: 0.0059\n",
      "Epoch 6/50\n",
      "167/167 [==============================] - 4s 25ms/step - loss: 2.0058e-04 - val_loss: 0.0048\n",
      "Epoch 7/50\n",
      "167/167 [==============================] - 4s 25ms/step - loss: 6.3217e-05 - val_loss: 0.0046\n",
      "Epoch 8/50\n",
      "167/167 [==============================] - 4s 26ms/step - loss: 2.4072e-05 - val_loss: 0.0035\n",
      "Epoch 9/50\n",
      "167/167 [==============================] - 4s 26ms/step - loss: 1.7604e-05 - val_loss: 0.0029\n",
      "Epoch 10/50\n",
      "167/167 [==============================] - 4s 25ms/step - loss: 1.5134e-05 - val_loss: 0.0025\n",
      "Epoch 11/50\n",
      "167/167 [==============================] - 5s 28ms/step - loss: 1.0859e-05 - val_loss: 0.0022\n",
      "Epoch 12/50\n",
      "167/167 [==============================] - 5s 30ms/step - loss: 1.1225e-04 - val_loss: 0.0037\n",
      "Epoch 13/50\n",
      "167/167 [==============================] - 4s 25ms/step - loss: 1.2292e-05 - val_loss: 0.0026\n",
      "Epoch 14/50\n",
      "167/167 [==============================] - 4s 26ms/step - loss: 1.7305e-05 - val_loss: 0.0020\n",
      "Epoch 15/50\n",
      "167/167 [==============================] - 4s 26ms/step - loss: 8.2151e-06 - val_loss: 0.0019\n",
      "Epoch 16/50\n",
      "167/167 [==============================] - 4s 27ms/step - loss: 0.0012 - val_loss: 0.0074\n",
      "Epoch 17/50\n",
      "167/167 [==============================] - 4s 26ms/step - loss: 5.9130e-05 - val_loss: 0.0067\n",
      "Epoch 18/50\n",
      "167/167 [==============================] - 4s 26ms/step - loss: 3.2849e-05 - val_loss: 0.0053\n",
      "Epoch 19/50\n",
      "167/167 [==============================] - 5s 29ms/step - loss: 3.1206e-05 - val_loss: 0.0044\n",
      "Epoch 20/50\n",
      "167/167 [==============================] - 4s 26ms/step - loss: 1.8376e-05 - val_loss: 0.0039\n",
      "Epoch 21/50\n",
      "167/167 [==============================] - 5s 28ms/step - loss: 1.8022e-05 - val_loss: 0.0031\n",
      "Epoch 22/50\n",
      "167/167 [==============================] - 4s 26ms/step - loss: 2.5441e-05 - val_loss: 0.0034\n",
      "Epoch 23/50\n",
      "167/167 [==============================] - 5s 32ms/step - loss: 1.5156e-05 - val_loss: 0.0030\n",
      "Epoch 24/50\n",
      "167/167 [==============================] - 6s 39ms/step - loss: 4.9988e-05 - val_loss: 0.0095\n",
      "Epoch 25/50\n",
      "167/167 [==============================] - 5s 29ms/step - loss: 1.0717e-04 - val_loss: 0.0019\n",
      "Epoch 26/50\n",
      "167/167 [==============================] - 4s 27ms/step - loss: 3.6275e-06 - val_loss: 0.0018\n",
      "Epoch 27/50\n",
      "167/167 [==============================] - 4s 26ms/step - loss: 2.5426e-06 - val_loss: 0.0020\n",
      "Epoch 28/50\n",
      "167/167 [==============================] - 5s 33ms/step - loss: 1.7671e-06 - val_loss: 0.0018\n",
      "Epoch 29/50\n",
      "167/167 [==============================] - 5s 31ms/step - loss: 1.3897e-06 - val_loss: 0.0019\n",
      "Epoch 30/50\n",
      "167/167 [==============================] - 5s 32ms/step - loss: 1.1799e-06 - val_loss: 0.0018\n",
      "Epoch 31/50\n",
      "167/167 [==============================] - 5s 27ms/step - loss: 3.5531e-06 - val_loss: 0.0018\n",
      "Epoch 32/50\n",
      "167/167 [==============================] - 5s 30ms/step - loss: 3.0732e-06 - val_loss: 0.0016\n",
      "Epoch 33/50\n",
      "167/167 [==============================] - 5s 28ms/step - loss: 5.5370e-05 - val_loss: 9.4209e-04\n",
      "Epoch 34/50\n",
      "167/167 [==============================] - 5s 32ms/step - loss: 1.1076e-05 - val_loss: 0.0012\n",
      "Epoch 35/50\n",
      "167/167 [==============================] - 5s 29ms/step - loss: 2.6595e-06 - val_loss: 0.0010\n",
      "Epoch 36/50\n",
      "167/167 [==============================] - 5s 30ms/step - loss: 7.8593e-05 - val_loss: 9.2800e-04\n",
      "Epoch 37/50\n",
      "167/167 [==============================] - 5s 33ms/step - loss: 7.9169e-07 - val_loss: 8.9007e-04\n",
      "Epoch 38/50\n",
      "167/167 [==============================] - 5s 29ms/step - loss: 1.1400e-06 - val_loss: 0.0010\n",
      "Epoch 39/50\n",
      "167/167 [==============================] - 5s 29ms/step - loss: 1.0910e-06 - val_loss: 7.9675e-04\n",
      "Epoch 40/50\n",
      "167/167 [==============================] - 6s 36ms/step - loss: 1.2169e-06 - val_loss: 9.3550e-04\n",
      "Epoch 41/50\n",
      "167/167 [==============================] - 5s 30ms/step - loss: 9.1755e-06 - val_loss: 9.4875e-04\n",
      "Epoch 42/50\n",
      "167/167 [==============================] - 5s 31ms/step - loss: 2.2985e-05 - val_loss: 0.0010\n",
      "Epoch 43/50\n",
      "167/167 [==============================] - 6s 33ms/step - loss: 8.1194e-05 - val_loss: 9.3610e-04\n",
      "Epoch 44/50\n",
      "167/167 [==============================] - 4s 26ms/step - loss: 2.6507e-05 - val_loss: 7.8592e-04\n",
      "Epoch 45/50\n",
      "167/167 [==============================] - 4s 27ms/step - loss: 2.0152e-06 - val_loss: 7.0465e-04\n",
      "Epoch 46/50\n",
      "167/167 [==============================] - 5s 29ms/step - loss: 2.2067e-06 - val_loss: 6.6019e-04\n",
      "Epoch 47/50\n",
      "167/167 [==============================] - 4s 26ms/step - loss: 1.5808e-05 - val_loss: 9.1898e-04\n",
      "Epoch 48/50\n",
      "167/167 [==============================] - 4s 26ms/step - loss: 1.5115e-06 - val_loss: 7.0380e-04\n",
      "Epoch 49/50\n",
      "167/167 [==============================] - 4s 26ms/step - loss: 1.9236e-06 - val_loss: 8.3029e-04\n",
      "Epoch 50/50\n",
      "167/167 [==============================] - 5s 28ms/step - loss: 1.8250e-05 - val_loss: 8.4543e-04\n"
     ]
    },
    {
     "data": {
      "text/plain": [
       "<keras.callbacks.History at 0x7f7929b7e760>"
      ]
     },
     "execution_count": 30,
     "metadata": {},
     "output_type": "execute_result"
    }
   ],
   "source": [
    "#Train the model.\n",
    "# RNN weights are updated every 64 stock prices with a batch size of 64.\n",
    "model.fit(x_train, y_train, validation_data=(x_test,y_test), epochs=50, batch_size=64, verbose=1)"
   ]
  },
  {
   "cell_type": "code",
   "execution_count": 31,
   "id": "9a6b6a77",
   "metadata": {},
   "outputs": [
    {
     "name": "stdout",
     "output_type": "stream",
     "text": [
      "334/334 [==============================] - 3s 5ms/step\n",
      "180/180 [==============================] - 1s 6ms/step\n"
     ]
    }
   ],
   "source": [
    "#Tranform to original from.\n",
    "train_predict= model.predict(x_train)\n",
    "train_predict=scaler.inverse_transform(train_predict)\n",
    "test_predict= model.predict(x_test)\n",
    "test_predict=scaler.inverse_transform(test_predict)"
   ]
  },
  {
   "cell_type": "code",
   "execution_count": 32,
   "id": "c9491735",
   "metadata": {},
   "outputs": [
    {
     "data": {
      "text/plain": [
       "2180.6258991314994"
      ]
     },
     "execution_count": 32,
     "metadata": {},
     "output_type": "execute_result"
    }
   ],
   "source": [
    "#Calculate RMSeperformance metrics.\n",
    "import math\n",
    "from sklearn.metrics import mean_squared_error\n",
    "math.sqrt (mean_squared_error(y_train, train_predict))"
   ]
  },
  {
   "cell_type": "code",
   "execution_count": 33,
   "id": "a20f7066",
   "metadata": {},
   "outputs": [],
   "source": [
    "#Save the model.\n",
    "from tensorflow.keras.models import load_model\n",
    "model.save(\"crude_oil.h5\")"
   ]
  },
  {
   "cell_type": "code",
   "execution_count": 60,
   "id": "d3002089",
   "metadata": {},
   "outputs": [
    {
     "data": {
      "image/png": "[encoded data removed]",
      "text/plain": [
       "<Figure size 432x288 with 1 Axes>"
      ]
     },
     "metadata": {
      "needs_background": "light"
     },
     "output_type": "display_data"
    }
   ],
   "source": [
    "##Plotting\n",
    "#Shift train predictions for plotting.\n",
    "look_back=10\n",
    "trainPredictPlot = np.empty_like(data_oil)\n",
    "trainPredictPlot[:, :] = np.nan\n",
    "trainPredictPlot[look_back:len(train_predict)+look_back, :] = train_predict\n",
    "# shift test predictions for plotting\n",
    "testPredictPlot = np.empty_like(data_oil)\n",
    "testPredictPlot[:, :] = np.nan\n",
    "testPredictPlot[len(train_predict)+(look_back*2)+1:len(data_oil)-1,:] = test_predict\n",
    "# plot baseline and predictions\n",
    "plt.plot(scaler.inverse_transform(data_oil))\n",
    "plt.plot(trainPredictPlot)\n",
    "plt.plot(testPredictPlot)\n",
    "plt.show()"
   ]
  },
  {
   "cell_type": "code",
   "execution_count": 36,
   "id": "e3b37b06",
   "metadata": {},
   "outputs": [
    {
     "data": {
      "text/plain": [
       "5752"
      ]
     },
     "execution_count": 36,
     "metadata": {},
     "output_type": "execute_result"
    }
   ],
   "source": [
    "#Print length of data.\n",
    "len(test_data)"
   ]
  },
  {
   "cell_type": "code",
   "execution_count": 37,
   "id": "ec1cafc9",
   "metadata": {},
   "outputs": [
    {
     "data": {
      "text/plain": [
       "(1, 10)"
      ]
     },
     "execution_count": 37,
     "metadata": {},
     "output_type": "execute_result"
    }
   ],
   "source": [
    "#Create the input and reshape it and convert it into list\n",
    "x_input=test_data[5742: ].reshape (1,-1)\n",
    "x_input.shape\n",
    "\n",
    "temp_input=list(x_input)\n",
    "temp_input=temp_input[0].tolist()"
   ]
  },
  {
   "cell_type": "code",
   "execution_count": 39,
   "id": "da30975e",
   "metadata": {},
   "outputs": [
    {
     "data": {
      "text/plain": [
       "[0.9993918754560934,\n",
       " 0.008986864509851618,\n",
       " 0.9995135003648747,\n",
       " 0.009023351982486013,\n",
       " 0.9997567501824374,\n",
       " 0.00888469958647531,\n",
       " 0.9998783750912187,\n",
       " 0.008973485769885672,\n",
       " 1.0,\n",
       " 0.008991729506202872]"
      ]
     },
     "execution_count": 39,
     "metadata": {},
     "output_type": "execute_result"
    }
   ],
   "source": [
    "temp_input"
   ]
  },
  {
   "cell_type": "code",
   "execution_count": 80,
   "id": "2fcee1f7",
   "metadata": {},
   "outputs": [
    {
     "name": "stdout",
     "output_type": "stream",
     "text": [
      "[-0.03380665183067322, 0.8260437250137329, 0.03285090625286102, 0.8781332969665527, 0.13991111516952515, 0.9468504786491394, 0.1907729208469391, 0.9217405319213867, 0.02330704592168331, 0.744361937046051, -0.23653282225131989]\n",
      "0 day input [ 0.82604373  0.03285091  0.8781333   0.13991112  0.94685048  0.19077292\n",
      "  0.92174053  0.02330705  0.74436194 -0.23653282]\n",
      "[[[ 0.82604373]\n",
      "  [ 0.03285091]\n",
      "  [ 0.8781333 ]\n",
      "  [ 0.13991112]\n",
      "  [ 0.94685048]\n",
      "  [ 0.19077292]\n",
      "  [ 0.92174053]\n",
      "  [ 0.02330705]\n",
      "  [ 0.74436194]\n",
      "  [-0.23653282]]]\n",
      "0 day output [[0.7101775]]\n",
      "[0.8260437250137329, 0.03285090625286102, 0.8781332969665527, 0.13991111516952515, 0.9468504786491394, 0.1907729208469391, 0.9217405319213867, 0.02330704592168331, 0.744361937046051, -0.23653282225131989, 0.710177481174469]\n",
      "[0.8260437250137329, 0.03285090625286102, 0.8781332969665527, 0.13991111516952515, 0.9468504786491394, 0.1907729208469391, 0.9217405319213867, 0.02330704592168331, 0.744361937046051, -0.23653282225131989, 0.710177481174469]\n",
      "1 day input [ 0.03285091  0.8781333   0.13991112  0.94685048  0.19077292  0.92174053\n",
      "  0.02330705  0.74436194 -0.23653282  0.71017748]\n",
      "[[[ 0.03285091]\n",
      "  [ 0.8781333 ]\n",
      "  [ 0.13991112]\n",
      "  [ 0.94685048]\n",
      "  [ 0.19077292]\n",
      "  [ 0.92174053]\n",
      "  [ 0.02330705]\n",
      "  [ 0.74436194]\n",
      "  [-0.23653282]\n",
      "  [ 0.71017748]]]\n",
      "1 day output [[0.09036374]]\n",
      "[0.03285090625286102, 0.8781332969665527, 0.13991111516952515, 0.9468504786491394, 0.1907729208469391, 0.9217405319213867, 0.02330704592168331, 0.744361937046051, -0.23653282225131989, 0.710177481174469, 0.09036374092102051]\n",
      "[0.03285090625286102, 0.8781332969665527, 0.13991111516952515, 0.9468504786491394, 0.1907729208469391, 0.9217405319213867, 0.02330704592168331, 0.744361937046051, -0.23653282225131989, 0.710177481174469, 0.09036374092102051]\n",
      "2 day input [ 0.8781333   0.13991112  0.94685048  0.19077292  0.92174053  0.02330705\n",
      "  0.74436194 -0.23653282  0.71017748  0.09036374]\n",
      "[[[ 0.8781333 ]\n",
      "  [ 0.13991112]\n",
      "  [ 0.94685048]\n",
      "  [ 0.19077292]\n",
      "  [ 0.92174053]\n",
      "  [ 0.02330705]\n",
      "  [ 0.74436194]\n",
      "  [-0.23653282]\n",
      "  [ 0.71017748]\n",
      "  [ 0.09036374]]]\n",
      "2 day output [[0.976043]]\n",
      "[0.8781332969665527, 0.13991111516952515, 0.9468504786491394, 0.1907729208469391, 0.9217405319213867, 0.02330704592168331, 0.744361937046051, -0.23653282225131989, 0.710177481174469, 0.09036374092102051, 0.9760429859161377]\n",
      "[0.8781332969665527, 0.13991111516952515, 0.9468504786491394, 0.1907729208469391, 0.9217405319213867, 0.02330704592168331, 0.744361937046051, -0.23653282225131989, 0.710177481174469, 0.09036374092102051, 0.9760429859161377]\n",
      "3 day input [ 0.13991112  0.94685048  0.19077292  0.92174053  0.02330705  0.74436194\n",
      " -0.23653282  0.71017748  0.09036374  0.97604299]\n",
      "[[[ 0.13991112]\n",
      "  [ 0.94685048]\n",
      "  [ 0.19077292]\n",
      "  [ 0.92174053]\n",
      "  [ 0.02330705]\n",
      "  [ 0.74436194]\n",
      "  [-0.23653282]\n",
      "  [ 0.71017748]\n",
      "  [ 0.09036374]\n",
      "  [ 0.97604299]]]\n",
      "3 day output [[0.48699597]]\n",
      "[0.13991111516952515, 0.9468504786491394, 0.1907729208469391, 0.9217405319213867, 0.02330704592168331, 0.744361937046051, -0.23653282225131989, 0.710177481174469, 0.09036374092102051, 0.9760429859161377, 0.48699596524238586]\n",
      "[0.13991111516952515, 0.9468504786491394, 0.1907729208469391, 0.9217405319213867, 0.02330704592168331, 0.744361937046051, -0.23653282225131989, 0.710177481174469, 0.09036374092102051, 0.9760429859161377, 0.48699596524238586]\n",
      "4 day input [ 0.94685048  0.19077292  0.92174053  0.02330705  0.74436194 -0.23653282\n",
      "  0.71017748  0.09036374  0.97604299  0.48699597]\n",
      "[[[ 0.94685048]\n",
      "  [ 0.19077292]\n",
      "  [ 0.92174053]\n",
      "  [ 0.02330705]\n",
      "  [ 0.74436194]\n",
      "  [-0.23653282]\n",
      "  [ 0.71017748]\n",
      "  [ 0.09036374]\n",
      "  [ 0.97604299]\n",
      "  [ 0.48699597]]]\n",
      "4 day output [[1.1214533]]\n",
      "[0.9468504786491394, 0.1907729208469391, 0.9217405319213867, 0.02330704592168331, 0.744361937046051, -0.23653282225131989, 0.710177481174469, 0.09036374092102051, 0.9760429859161377, 0.48699596524238586, 1.1214532852172852]\n",
      "[0.9468504786491394, 0.1907729208469391, 0.9217405319213867, 0.02330704592168331, 0.744361937046051, -0.23653282225131989, 0.710177481174469, 0.09036374092102051, 0.9760429859161377, 0.48699596524238586, 1.1214532852172852]\n",
      "5 day input [ 0.19077292  0.92174053  0.02330705  0.74436194 -0.23653282  0.71017748\n",
      "  0.09036374  0.97604299  0.48699597  1.12145329]\n",
      "[[[ 0.19077292]\n",
      "  [ 0.92174053]\n",
      "  [ 0.02330705]\n",
      "  [ 0.74436194]\n",
      "  [-0.23653282]\n",
      "  [ 0.71017748]\n",
      "  [ 0.09036374]\n",
      "  [ 0.97604299]\n",
      "  [ 0.48699597]\n",
      "  [ 1.12145329]]]\n",
      "5 day output [[0.3828964]]\n",
      "[0.1907729208469391, 0.9217405319213867, 0.02330704592168331, 0.744361937046051, -0.23653282225131989, 0.710177481174469, 0.09036374092102051, 0.9760429859161377, 0.48699596524238586, 1.1214532852172852, 0.38289639353752136]\n",
      "[0.1907729208469391, 0.9217405319213867, 0.02330704592168331, 0.744361937046051, -0.23653282225131989, 0.710177481174469, 0.09036374092102051, 0.9760429859161377, 0.48699596524238586, 1.1214532852172852, 0.38289639353752136]\n",
      "6 day input [ 0.92174053  0.02330705  0.74436194 -0.23653282  0.71017748  0.09036374\n",
      "  0.97604299  0.48699597  1.12145329  0.38289639]\n",
      "[[[ 0.92174053]\n",
      "  [ 0.02330705]\n",
      "  [ 0.74436194]\n",
      "  [-0.23653282]\n",
      "  [ 0.71017748]\n",
      "  [ 0.09036374]\n",
      "  [ 0.97604299]\n",
      "  [ 0.48699597]\n",
      "  [ 1.12145329]\n",
      "  [ 0.38289639]]]\n",
      "6 day output [[0.74735063]]\n",
      "[0.9217405319213867, 0.02330704592168331, 0.744361937046051, -0.23653282225131989, 0.710177481174469, 0.09036374092102051, 0.9760429859161377, 0.48699596524238586, 1.1214532852172852, 0.38289639353752136, 0.7473506331443787]\n",
      "[0.9217405319213867, 0.02330704592168331, 0.744361937046051, -0.23653282225131989, 0.710177481174469, 0.09036374092102051, 0.9760429859161377, 0.48699596524238586, 1.1214532852172852, 0.38289639353752136, 0.7473506331443787]\n",
      "7 day input [ 0.02330705  0.74436194 -0.23653282  0.71017748  0.09036374  0.97604299\n",
      "  0.48699597  1.12145329  0.38289639  0.74735063]\n",
      "[[[ 0.02330705]\n",
      "  [ 0.74436194]\n",
      "  [-0.23653282]\n",
      "  [ 0.71017748]\n",
      "  [ 0.09036374]\n",
      "  [ 0.97604299]\n",
      "  [ 0.48699597]\n",
      "  [ 1.12145329]\n",
      "  [ 0.38289639]\n",
      "  [ 0.74735063]]]\n",
      "7 day output [[-0.50187325]]\n",
      "[0.02330704592168331, 0.744361937046051, -0.23653282225131989, 0.710177481174469, 0.09036374092102051, 0.9760429859161377, 0.48699596524238586, 1.1214532852172852, 0.38289639353752136, 0.7473506331443787, -0.501873254776001]\n",
      "[0.02330704592168331, 0.744361937046051, -0.23653282225131989, 0.710177481174469, 0.09036374092102051, 0.9760429859161377, 0.48699596524238586, 1.1214532852172852, 0.38289639353752136, 0.7473506331443787, -0.501873254776001]\n",
      "8 day input [ 0.74436194 -0.23653282  0.71017748  0.09036374  0.97604299  0.48699597\n",
      "  1.12145329  0.38289639  0.74735063 -0.50187325]\n",
      "[[[ 0.74436194]\n",
      "  [-0.23653282]\n",
      "  [ 0.71017748]\n",
      "  [ 0.09036374]\n",
      "  [ 0.97604299]\n",
      "  [ 0.48699597]\n",
      "  [ 1.12145329]\n",
      "  [ 0.38289639]\n",
      "  [ 0.74735063]\n",
      "  [-0.50187325]]]\n",
      "8 day output [[0.07946717]]\n",
      "[0.744361937046051, -0.23653282225131989, 0.710177481174469, 0.09036374092102051, 0.9760429859161377, 0.48699596524238586, 1.1214532852172852, 0.38289639353752136, 0.7473506331443787, -0.501873254776001, 0.07946716994047165]\n",
      "[0.744361937046051, -0.23653282225131989, 0.710177481174469, 0.09036374092102051, 0.9760429859161377, 0.48699596524238586, 1.1214532852172852, 0.38289639353752136, 0.7473506331443787, -0.501873254776001, 0.07946716994047165]\n",
      "9 day input [-0.23653282  0.71017748  0.09036374  0.97604299  0.48699597  1.12145329\n",
      "  0.38289639  0.74735063 -0.50187325  0.07946717]\n",
      "[[[-0.23653282]\n",
      "  [ 0.71017748]\n",
      "  [ 0.09036374]\n",
      "  [ 0.97604299]\n",
      "  [ 0.48699597]\n",
      "  [ 1.12145329]\n",
      "  [ 0.38289639]\n",
      "  [ 0.74735063]\n",
      "  [-0.50187325]\n",
      "  [ 0.07946717]]]\n",
      "9 day output [[-0.77359766]]\n",
      "[-0.23653282225131989, 0.710177481174469, 0.09036374092102051, 0.9760429859161377, 0.48699596524238586, 1.1214532852172852, 0.38289639353752136, 0.7473506331443787, -0.501873254776001, 0.07946716994047165, -0.7735976576805115]\n"
     ]
    }
   ],
   "source": [
    "#For predicting next 10 days crude oil prices we consider n_steps=10.\n",
    "#We create the input for prediction, index starting from the date 10 days before the first date in the test dataset.\n",
    "# Then, reshape the inputs to have only 1 column and predict using model_predict predefined function.\n",
    "lst_output=[] \n",
    "n_steps=10\n",
    "i=0 \n",
    "while(i<10):\n",
    "    if(len(temp_input)>10):\n",
    "        print (temp_input)\n",
    "        x_input=np.array(temp_input[1:])\n",
    "        print(\"{} day input {}\".format (i,x_input))\n",
    "        x_input=x_input.reshape(1,-1)\n",
    "        x_input = x_input.reshape((1, n_steps, 1))\n",
    "        print(x_input)\n",
    "        yhat = model.predict(x_input, verbose=0)\n",
    "        print(\"{} day output {}\".format (i,yhat))\n",
    "        temp_input.extend (yhat [0].tolist())\n",
    "        temp_input=temp_input[1:]\n",
    "        print(temp_input)\n",
    "        lst_output.extend(yhat.tolist())\n",
    "        i=i+1 \n",
    "    else:\n",
    "        x_input = x_input.reshape( (1, n_steps,1))\n",
    "        yhat = model.predict(x_input, verbose=0)\n",
    "        print (yhat [0])\n",
    "        temp_input.extend(yhat[0].tolist())\n",
    "        print(len(temp_input))\n",
    "        lst_output.extend (yhat.tolist())\n",
    "        i=i+1"
   ]
  },
  {
   "cell_type": "code",
   "execution_count": 53,
   "id": "ee4e2d4e",
   "metadata": {},
   "outputs": [],
   "source": [
    "#Create a visualization plot to easily review the prediction.\n",
    "day_new=np.arange(1,11)\n",
    "day_pred=np.arange (11,21)\n",
    "len(data_oil)\n",
    "plt.plot(day_new, scaler.inverse_transform(data_oil[16422:])) \n",
    "plt.plot(day_pred, scaler.inverse_transform(lst_output))\n",
    "k=scaler.inverse_transform(lst_output)\n",
    "k"
   ]
  },
  {
   "cell_type": "code",
   "execution_count": 56,
   "id": "e731357e",
   "metadata": {},
   "outputs": [
    {
     "data": {
      "text/plain": [
       "[<matplotlib.lines.Line2D at 0x7f79328cd490>]"
      ]
     },
     "execution_count": 56,
     "metadata": {},
     "output_type": "execute_result"
    },
    {
     "data": {
      "image/png": "[encoded data removed]",
      "text/plain": [
       "<Figure size 432x288 with 1 Axes>"
      ]
     },
     "metadata": {
      "needs_background": "light"
     },
     "output_type": "display_data"
    }
   ],
   "source": [
    "#Merge the the past data and next 10 days output prediction.\n",
    "df3=data_oil.tolist()\n",
    "df3.extend(lst_output)\n",
    "plt.plot(df3[16400:])"
   ]
  },
  {
   "cell_type": "code",
   "execution_count": 57,
   "id": "30c09323",
   "metadata": {},
   "outputs": [],
   "source": [
    "#Reversing the predictions.\n",
    "df3=scaler.inverse_transform(df3).tolist()\n",
    "plt.plot(df3[16400:])"
   ]
  }
 ],
 "metadata": {
  "kernelspec": {
   "display_name": "Python 3 (ipykernel)",
   "language": "python",
   "name": "python3"
  },
  "language_info": {
   "codemirror_mode": {
    "name": "ipython",
    "version": 3
   },
   "file_extension": ".py",
   "mimetype": "text/x-python",
   "name": "python",
   "nbconvert_exporter": "python",
   "pygments_lexer": "ipython3",
   "version": "3.9.12"
  },
  "vscode": {
   "interpreter": {
    "hash": "5addf786bcd861d1ce5006f23111f8cbb206731e5b61b0a5632ba9e0252558a8"
   }
  }
 },
 "nbformat": 4,
 "nbformat_minor": 5
}
